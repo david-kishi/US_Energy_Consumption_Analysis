{
 "cells": [
  {
   "cell_type": "code",
   "execution_count": 1,
   "metadata": {},
   "outputs": [],
   "source": [
    "# Imports\n",
    "import pandas as pd\n",
    "import numpy as np\n",
    "import matplotlib.pyplot as plt\n",
    "\n",
    "# Paths to data\n",
    "TETC_CA_path = '../Resources/TotalEnergyConsumption_CA.csv'\n",
    "TETC_US_path = '../Resources/TotalEnergyConsumption_US.csv'\n",
    "CO2_EMISS_CA_path = '../Resources/TotalCO2Emissions_CA.csv'\n",
    "CO2_EMISS_US_path = '../Resources/TotalCO2Emissions_US.csv'\n",
    "CO2_EMISS_NA_path = '../Resources/TotalCO2Emissions_NA.csv'\n",
    "CO2_EMISS_World_path = '../Resources/TotalCO2Emissions_World.csv'"
   ]
  },
  {
   "cell_type": "code",
   "execution_count": 2,
   "metadata": {},
   "outputs": [],
   "source": [
    "# Put Total Energy Total Consumption Data into DataFrames\n",
    "TETC_CA_df = pd.read_csv(TETC_CA_path)\n",
    "TETC_US_df = pd.read_csv(TETC_US_path)\n",
    "\n",
    "# Put CO2 Emission data into DataFrames\n",
    "CO2_EMISS_CA_df = pd.read_csv(CO2_EMISS_CA_path)\n",
    "CO2_EMISS_US_df = pd.read_csv(CO2_EMISS_US_path)\n",
    "CO2_EMISS_NA_df = pd.read_csv(CO2_EMISS_NA_path)\n",
    "CO2_EMISS_World_df = pd.read_csv(CO2_EMISS_World_path)\n",
    "\n",
    "# Drop 'Unnamed: 0' column\n",
    "TETC_CA_df = TETC_CA_df.drop(columns=['Unnamed: 0'])\n",
    "TETC_US_df = TETC_US_df.drop(columns=['Unnamed: 0'])\n",
    "CO2_EMISS_CA_df = CO2_EMISS_CA_df.drop(columns=['Unnamed: 0'])\n",
    "CO2_EMISS_US_df = CO2_EMISS_US_df.drop(columns=['Unnamed: 0'])\n",
    "CO2_EMISS_NA_df = CO2_EMISS_NA_df.drop(columns=['Unnamed: 0'])\n",
    "CO2_EMISS_World_df = CO2_EMISS_World_df.drop(columns=['Unnamed: 0'])"
   ]
  },
  {
   "cell_type": "code",
   "execution_count": 3,
   "metadata": {
    "scrolled": true
   },
   "outputs": [
    {
     "data": {
      "text/plain": [
       "(   Years  TETCB_CA  PATCB_CA  CLTCB_CA  NGTCB_CA\n",
       " 0   2017   7881348   3666908     33663   2188659\n",
       " 1   2016   7819232   3602810     32077   2248939\n",
       " 2   2015   7672710   3494378     30967   2384061\n",
       " 3   2014   7584837   3363800     39486   2409574\n",
       " 4   2013   7638003   3352775     38151   2480792,\n",
       "    Years  TETCB_US  PATCB_US  CLTCB_US  NGTCB_US\n",
       " 0   2017   7881348   3666908     33663   2188659\n",
       " 1   2016   7819232   3602810     32077   2248939\n",
       " 2   2015   7672710   3494378     30967   2384061\n",
       " 3   2014   7584837   3363800     39486   2409574\n",
       " 4   2013   7638003   3352775     38151   2480792,\n",
       "    Year  CA All CO2 Emissions  CA Coal CO2 Emissions  \\\n",
       " 0  2016            361.354016               3.014739   \n",
       " 1  2015            360.786696               2.910416   \n",
       " 2  2014            352.942992               3.714184   \n",
       " 3  2013            355.993407               3.588513   \n",
       " 4  2012            353.125564               4.125493   \n",
       " \n",
       "    CA Natural Gas CO2 Emissions  CA Petroleum CO2 Emissions  \n",
       " 0                    119.290381                  239.048895  \n",
       " 1                    126.490011                  231.386268  \n",
       " 2                    127.844283                  221.384525  \n",
       " 3                    131.622713                  220.782180  \n",
       " 4                    130.326910                  218.673161  ,\n",
       "    Year  US All CO2 Emissions  US Coal CO2 Emissions  \\\n",
       " 0  2016           5160.990850            1341.554505   \n",
       " 1  2015           5207.386647            1466.690348   \n",
       " 2  2014           5350.265440            1697.674855   \n",
       " 3  2013           5301.451176            1701.695889   \n",
       " 4  2012           5162.563034            1639.630926   \n",
       " \n",
       "    US Natural Gas CO2 Emissions  US Petroleum CO2 Emission  \n",
       " 0                   1494.509337                2324.927009  \n",
       " 1                   1481.281198                2259.415101  \n",
       " 2                   1438.300180                2214.290405  \n",
       " 3                   1408.296876                2191.458410  \n",
       " 4                   1370.834456                2152.097652  ,\n",
       "    Year  North America CO2 Emissions\n",
       " 0  2016                  6259.887392\n",
       " 1  2015                  6361.994213\n",
       " 2  2014                  6489.307217\n",
       " 3  2013                  6446.212972\n",
       " 4  2012                  6285.648553,\n",
       "    Year  World CO2 Emissions\n",
       " 0  2016         35666.079685\n",
       " 1  2015         35821.836532\n",
       " 2  2014         35878.521381\n",
       " 3  2013         35720.130281\n",
       " 4  2012         34971.759502)"
      ]
     },
     "execution_count": 3,
     "metadata": {},
     "output_type": "execute_result"
    }
   ],
   "source": [
    "# Validate DataFrames\n",
    "TETC_CA_df.head(),TETC_US_df.head(),CO2_EMISS_CA_df.head(),CO2_EMISS_US_df.head(),CO2_EMISS_NA_df.head(),CO2_EMISS_World_df.head()"
   ]
  },
  {
   "cell_type": "code",
   "execution_count": null,
   "metadata": {},
   "outputs": [],
   "source": []
  }
 ],
 "metadata": {
  "kernelspec": {
   "display_name": "Python 3",
   "language": "python",
   "name": "python3"
  },
  "language_info": {
   "codemirror_mode": {
    "name": "ipython",
    "version": 3
   },
   "file_extension": ".py",
   "mimetype": "text/x-python",
   "name": "python",
   "nbconvert_exporter": "python",
   "pygments_lexer": "ipython3",
   "version": "3.7.3"
  }
 },
 "nbformat": 4,
 "nbformat_minor": 2
}
