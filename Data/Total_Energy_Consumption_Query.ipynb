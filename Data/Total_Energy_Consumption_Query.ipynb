{
 "cells": [
  {
   "cell_type": "markdown",
   "metadata": {},
   "source": [
    "# Total Energy Consumptions Queries\n",
    "\n",
    "* Queries for total energy consumption data for California, US, North America, and one other continent.\n",
    "* Saves data into dataframes and then into CSV files for later use in analysis.\n",
    "\n",
    "## Endpoint References\n",
    "### Total Energy Consumption, California\n",
    "* Total Energy Consumption in All Sectors, California\n",
    "    * `http://api.eia.gov/series/?api_key=YOUR_API_KEY_HERE&series_id=SEDS.TETCB.CA.A`\n",
    "* Total Energy Consumption in All Petroleum, California\n",
    "    * `http://api.eia.gov/series/?api_key=YOUR_API_KEY_HERE&series_id=SEDS.PATCB.CA.A`\n",
    "* Total Energy Consumption in Coal, California\n",
    "    * `http://api.eia.gov/series/?api_key=YOUR_API_KEY_HERE&series_id=SEDS.CLTCB.CA.A`\n",
    "* Total Energy Consumption in Natural Gas, California\n",
    "    * `http://api.eia.gov/series/?api_key=YOUR_API_KEY_HERE&series_id=SEDS.NGTCB.CA.A`\n",
    "\n",
    "### Total Energy Consumption, United States\n",
    "* Total Energy Consumption in All Sectors, United States\n",
    "    * `http://api.eia.gov/series/?api_key=YOUR_API_KEY_HERE&series_id=SEDS.TETCB.US.A`\n",
    "* Total Energy Consumption in All Petroleum, United States\n",
    "    * `http://api.eia.gov/series/?api_key=YOUR_API_KEY_HERE&series_id=SEDS.PATCB.US.A`\n",
    "* Total Energy Consumption in Coal, United States\n",
    "    * `http://api.eia.gov/series/?api_key=YOUR_API_KEY_HERE&series_id=SEDS.CLTCB.US.A`\n",
    "* Total Energy Consumption in Natural Gas, United States\n",
    "    * `http://api.eia.gov/series/?api_key=YOUR_API_KEY_HERE&series_id=SEDS.NGTCB.US.A`"
   ]
  },
  {
   "cell_type": "markdown",
   "metadata": {},
   "source": [
    "## Imports"
   ]
  },
  {
   "cell_type": "code",
   "execution_count": 1,
   "metadata": {},
   "outputs": [],
   "source": [
    "import requests\n",
    "import json\n",
    "import pandas as pd\n",
    "\n",
    "from config import api_key\n",
    "\n",
    "query = 'http://api.eia.gov/series/?api_key='"
   ]
  },
  {
   "cell_type": "markdown",
   "metadata": {},
   "source": [
    "#### Function to automate reading in values into lists."
   ]
  },
  {
   "cell_type": "code",
   "execution_count": 2,
   "metadata": {},
   "outputs": [],
   "source": [
    "def query_to_list(years,value,json):\n",
    "    for item in json:\n",
    "        years.append(item[0])\n",
    "        value.append(item[1])\n",
    "    print(\"query_to_list() successful\")"
   ]
  },
  {
   "cell_type": "markdown",
   "metadata": {},
   "source": [
    "## Queries and storing data into individual pandas dataframes."
   ]
  },
  {
   "cell_type": "markdown",
   "metadata": {},
   "source": [
    "#### Total Energy Consumption in All Sectors, California"
   ]
  },
  {
   "cell_type": "code",
   "execution_count": 3,
   "metadata": {},
   "outputs": [
    {
     "name": "stdout",
     "output_type": "stream",
     "text": [
      "<Response [200]>\n",
      "query_to_list() successful\n"
     ]
    },
    {
     "data": {
      "text/html": [
       "<div>\n",
       "<style scoped>\n",
       "    .dataframe tbody tr th:only-of-type {\n",
       "        vertical-align: middle;\n",
       "    }\n",
       "\n",
       "    .dataframe tbody tr th {\n",
       "        vertical-align: top;\n",
       "    }\n",
       "\n",
       "    .dataframe thead th {\n",
       "        text-align: right;\n",
       "    }\n",
       "</style>\n",
       "<table border=\"1\" class=\"dataframe\">\n",
       "  <thead>\n",
       "    <tr style=\"text-align: right;\">\n",
       "      <th></th>\n",
       "      <th>Year</th>\n",
       "      <th>TETCB_CA</th>\n",
       "    </tr>\n",
       "  </thead>\n",
       "  <tbody>\n",
       "    <tr>\n",
       "      <th>0</th>\n",
       "      <td>2017</td>\n",
       "      <td>7881348</td>\n",
       "    </tr>\n",
       "    <tr>\n",
       "      <th>1</th>\n",
       "      <td>2016</td>\n",
       "      <td>7819232</td>\n",
       "    </tr>\n",
       "    <tr>\n",
       "      <th>2</th>\n",
       "      <td>2015</td>\n",
       "      <td>7672710</td>\n",
       "    </tr>\n",
       "    <tr>\n",
       "      <th>3</th>\n",
       "      <td>2014</td>\n",
       "      <td>7584837</td>\n",
       "    </tr>\n",
       "    <tr>\n",
       "      <th>4</th>\n",
       "      <td>2013</td>\n",
       "      <td>7638003</td>\n",
       "    </tr>\n",
       "  </tbody>\n",
       "</table>\n",
       "</div>"
      ],
      "text/plain": [
       "   Year  TETCB_CA\n",
       "0  2017   7881348\n",
       "1  2016   7819232\n",
       "2  2015   7672710\n",
       "3  2014   7584837\n",
       "4  2013   7638003"
      ]
     },
     "execution_count": 3,
     "metadata": {},
     "output_type": "execute_result"
    }
   ],
   "source": [
    "try:\n",
    "    response = requests.get(query + api_key + '&series_id=SEDS.TETCB.CA.A')\n",
    "    print(response)\n",
    "except:\n",
    "    print('Query failed.')\n",
    "\n",
    "TETCB_CA_A_YEARS = []\n",
    "TETCB_CA_A_VALUE = []\n",
    "\n",
    "query_to_list(TETCB_CA_A_YEARS, TETCB_CA_A_VALUE, response.json()['series'][0]['data'])\n",
    "\n",
    "TETCB_CA = pd.DataFrame({'Year':TETCB_CA_A_YEARS,'TETCB_CA':TETCB_CA_A_VALUE})\n",
    "TETCB_CA.head()"
   ]
  },
  {
   "cell_type": "markdown",
   "metadata": {},
   "source": [
    "#### Total Energy Consumption in All Petroleum, California"
   ]
  },
  {
   "cell_type": "code",
   "execution_count": 4,
   "metadata": {},
   "outputs": [
    {
     "name": "stdout",
     "output_type": "stream",
     "text": [
      "<Response [200]>\n",
      "query_to_list() successful\n"
     ]
    },
    {
     "data": {
      "text/html": [
       "<div>\n",
       "<style scoped>\n",
       "    .dataframe tbody tr th:only-of-type {\n",
       "        vertical-align: middle;\n",
       "    }\n",
       "\n",
       "    .dataframe tbody tr th {\n",
       "        vertical-align: top;\n",
       "    }\n",
       "\n",
       "    .dataframe thead th {\n",
       "        text-align: right;\n",
       "    }\n",
       "</style>\n",
       "<table border=\"1\" class=\"dataframe\">\n",
       "  <thead>\n",
       "    <tr style=\"text-align: right;\">\n",
       "      <th></th>\n",
       "      <th>Year</th>\n",
       "      <th>PATCB_CA</th>\n",
       "    </tr>\n",
       "  </thead>\n",
       "  <tbody>\n",
       "    <tr>\n",
       "      <th>0</th>\n",
       "      <td>2017</td>\n",
       "      <td>3666908</td>\n",
       "    </tr>\n",
       "    <tr>\n",
       "      <th>1</th>\n",
       "      <td>2016</td>\n",
       "      <td>3602810</td>\n",
       "    </tr>\n",
       "    <tr>\n",
       "      <th>2</th>\n",
       "      <td>2015</td>\n",
       "      <td>3494378</td>\n",
       "    </tr>\n",
       "    <tr>\n",
       "      <th>3</th>\n",
       "      <td>2014</td>\n",
       "      <td>3363800</td>\n",
       "    </tr>\n",
       "    <tr>\n",
       "      <th>4</th>\n",
       "      <td>2013</td>\n",
       "      <td>3352775</td>\n",
       "    </tr>\n",
       "  </tbody>\n",
       "</table>\n",
       "</div>"
      ],
      "text/plain": [
       "   Year  PATCB_CA\n",
       "0  2017   3666908\n",
       "1  2016   3602810\n",
       "2  2015   3494378\n",
       "3  2014   3363800\n",
       "4  2013   3352775"
      ]
     },
     "execution_count": 4,
     "metadata": {},
     "output_type": "execute_result"
    }
   ],
   "source": [
    "try:\n",
    "    response = requests.get(query + api_key + '&series_id=SEDS.PATCB.CA.A')\n",
    "    print(response)\n",
    "except:\n",
    "    print('Query failed.')\n",
    "    \n",
    "PATCB_CA_A_YEARS = []\n",
    "PATCB_CA_A_VALUE = []\n",
    "\n",
    "query_to_list(PATCB_CA_A_YEARS, PATCB_CA_A_VALUE, response.json()['series'][0]['data'])\n",
    "\n",
    "PATCB_CA = pd.DataFrame({'Year':PATCB_CA_A_YEARS,'PATCB_CA':PATCB_CA_A_VALUE})\n",
    "PATCB_CA.head()"
   ]
  },
  {
   "cell_type": "markdown",
   "metadata": {},
   "source": [
    "#### Total Energy Consumption in Coal, California"
   ]
  },
  {
   "cell_type": "code",
   "execution_count": 5,
   "metadata": {},
   "outputs": [
    {
     "name": "stdout",
     "output_type": "stream",
     "text": [
      "<Response [200]>\n",
      "query_to_list() successful\n"
     ]
    },
    {
     "data": {
      "text/html": [
       "<div>\n",
       "<style scoped>\n",
       "    .dataframe tbody tr th:only-of-type {\n",
       "        vertical-align: middle;\n",
       "    }\n",
       "\n",
       "    .dataframe tbody tr th {\n",
       "        vertical-align: top;\n",
       "    }\n",
       "\n",
       "    .dataframe thead th {\n",
       "        text-align: right;\n",
       "    }\n",
       "</style>\n",
       "<table border=\"1\" class=\"dataframe\">\n",
       "  <thead>\n",
       "    <tr style=\"text-align: right;\">\n",
       "      <th></th>\n",
       "      <th>Year</th>\n",
       "      <th>CLTCB_CA</th>\n",
       "    </tr>\n",
       "  </thead>\n",
       "  <tbody>\n",
       "    <tr>\n",
       "      <th>0</th>\n",
       "      <td>2017</td>\n",
       "      <td>33663</td>\n",
       "    </tr>\n",
       "    <tr>\n",
       "      <th>1</th>\n",
       "      <td>2016</td>\n",
       "      <td>32077</td>\n",
       "    </tr>\n",
       "    <tr>\n",
       "      <th>2</th>\n",
       "      <td>2015</td>\n",
       "      <td>30967</td>\n",
       "    </tr>\n",
       "    <tr>\n",
       "      <th>3</th>\n",
       "      <td>2014</td>\n",
       "      <td>39486</td>\n",
       "    </tr>\n",
       "    <tr>\n",
       "      <th>4</th>\n",
       "      <td>2013</td>\n",
       "      <td>38151</td>\n",
       "    </tr>\n",
       "  </tbody>\n",
       "</table>\n",
       "</div>"
      ],
      "text/plain": [
       "   Year  CLTCB_CA\n",
       "0  2017     33663\n",
       "1  2016     32077\n",
       "2  2015     30967\n",
       "3  2014     39486\n",
       "4  2013     38151"
      ]
     },
     "execution_count": 5,
     "metadata": {},
     "output_type": "execute_result"
    }
   ],
   "source": [
    "try:\n",
    "    response = requests.get(query + api_key + '&series_id=SEDS.CLTCB.CA.A')\n",
    "    print(response)\n",
    "except:\n",
    "    print('Query failed.')\n",
    "    \n",
    "CLTCB_CA_A_YEARS = []\n",
    "CLTCB_CA_A_VALUE = []\n",
    "\n",
    "query_to_list(CLTCB_CA_A_YEARS, CLTCB_CA_A_VALUE, response.json()['series'][0]['data'])\n",
    "\n",
    "CLTCB_CA = pd.DataFrame({'Year':CLTCB_CA_A_YEARS,'CLTCB_CA':CLTCB_CA_A_VALUE})\n",
    "CLTCB_CA.head()"
   ]
  },
  {
   "cell_type": "markdown",
   "metadata": {},
   "source": [
    "#### Total Energy Consumption in Natural Gas, California"
   ]
  },
  {
   "cell_type": "code",
   "execution_count": 6,
   "metadata": {},
   "outputs": [
    {
     "name": "stdout",
     "output_type": "stream",
     "text": [
      "<Response [200]>\n",
      "query_to_list() successful\n"
     ]
    },
    {
     "data": {
      "text/html": [
       "<div>\n",
       "<style scoped>\n",
       "    .dataframe tbody tr th:only-of-type {\n",
       "        vertical-align: middle;\n",
       "    }\n",
       "\n",
       "    .dataframe tbody tr th {\n",
       "        vertical-align: top;\n",
       "    }\n",
       "\n",
       "    .dataframe thead th {\n",
       "        text-align: right;\n",
       "    }\n",
       "</style>\n",
       "<table border=\"1\" class=\"dataframe\">\n",
       "  <thead>\n",
       "    <tr style=\"text-align: right;\">\n",
       "      <th></th>\n",
       "      <th>Year</th>\n",
       "      <th>NGTCB_CA</th>\n",
       "    </tr>\n",
       "  </thead>\n",
       "  <tbody>\n",
       "    <tr>\n",
       "      <th>0</th>\n",
       "      <td>2017</td>\n",
       "      <td>2188659</td>\n",
       "    </tr>\n",
       "    <tr>\n",
       "      <th>1</th>\n",
       "      <td>2016</td>\n",
       "      <td>2248939</td>\n",
       "    </tr>\n",
       "    <tr>\n",
       "      <th>2</th>\n",
       "      <td>2015</td>\n",
       "      <td>2384061</td>\n",
       "    </tr>\n",
       "    <tr>\n",
       "      <th>3</th>\n",
       "      <td>2014</td>\n",
       "      <td>2409574</td>\n",
       "    </tr>\n",
       "    <tr>\n",
       "      <th>4</th>\n",
       "      <td>2013</td>\n",
       "      <td>2480792</td>\n",
       "    </tr>\n",
       "  </tbody>\n",
       "</table>\n",
       "</div>"
      ],
      "text/plain": [
       "   Year  NGTCB_CA\n",
       "0  2017   2188659\n",
       "1  2016   2248939\n",
       "2  2015   2384061\n",
       "3  2014   2409574\n",
       "4  2013   2480792"
      ]
     },
     "execution_count": 6,
     "metadata": {},
     "output_type": "execute_result"
    }
   ],
   "source": [
    "try:\n",
    "    response = requests.get(query + api_key + '&series_id=SEDS.NGTCB.CA.A')\n",
    "    print(response)\n",
    "except:\n",
    "    print('Query failed.')\n",
    "    \n",
    "NGTCB_CA_A_YEARS = []\n",
    "NGTCB_CA_A_VALUE = []\n",
    "\n",
    "query_to_list(NGTCB_CA_A_YEARS, NGTCB_CA_A_VALUE, response.json()['series'][0]['data'])\n",
    "\n",
    "NGTCB_CA = pd.DataFrame({'Year':NGTCB_CA_A_YEARS,'NGTCB_CA':NGTCB_CA_A_VALUE})\n",
    "NGTCB_CA.head()"
   ]
  },
  {
   "cell_type": "markdown",
   "metadata": {},
   "source": [
    "#### Total Energy Consumption in All Sectors, United States"
   ]
  },
  {
   "cell_type": "code",
   "execution_count": 7,
   "metadata": {},
   "outputs": [
    {
     "name": "stdout",
     "output_type": "stream",
     "text": [
      "<Response [200]>\n",
      "query_to_list() successful\n"
     ]
    },
    {
     "data": {
      "text/html": [
       "<div>\n",
       "<style scoped>\n",
       "    .dataframe tbody tr th:only-of-type {\n",
       "        vertical-align: middle;\n",
       "    }\n",
       "\n",
       "    .dataframe tbody tr th {\n",
       "        vertical-align: top;\n",
       "    }\n",
       "\n",
       "    .dataframe thead th {\n",
       "        text-align: right;\n",
       "    }\n",
       "</style>\n",
       "<table border=\"1\" class=\"dataframe\">\n",
       "  <thead>\n",
       "    <tr style=\"text-align: right;\">\n",
       "      <th></th>\n",
       "      <th>Year</th>\n",
       "      <th>TETCB_US</th>\n",
       "    </tr>\n",
       "  </thead>\n",
       "  <tbody>\n",
       "    <tr>\n",
       "      <th>0</th>\n",
       "      <td>2017</td>\n",
       "      <td>97621515</td>\n",
       "    </tr>\n",
       "    <tr>\n",
       "      <th>1</th>\n",
       "      <td>2016</td>\n",
       "      <td>97230097</td>\n",
       "    </tr>\n",
       "    <tr>\n",
       "      <th>2</th>\n",
       "      <td>2015</td>\n",
       "      <td>97364113</td>\n",
       "    </tr>\n",
       "    <tr>\n",
       "      <th>3</th>\n",
       "      <td>2014</td>\n",
       "      <td>98267257</td>\n",
       "    </tr>\n",
       "    <tr>\n",
       "      <th>4</th>\n",
       "      <td>2013</td>\n",
       "      <td>97099401</td>\n",
       "    </tr>\n",
       "  </tbody>\n",
       "</table>\n",
       "</div>"
      ],
      "text/plain": [
       "   Year  TETCB_US\n",
       "0  2017  97621515\n",
       "1  2016  97230097\n",
       "2  2015  97364113\n",
       "3  2014  98267257\n",
       "4  2013  97099401"
      ]
     },
     "execution_count": 7,
     "metadata": {},
     "output_type": "execute_result"
    }
   ],
   "source": [
    "try:\n",
    "    response = requests.get(query + api_key + '&series_id=SEDS.TETCB.US.A')\n",
    "    print(response)\n",
    "except:\n",
    "    print('Query failed.')\n",
    "    \n",
    "TETCB_US_A_YEARS = []\n",
    "TETCB_US_A_VALUE = []\n",
    "\n",
    "query_to_list(TETCB_US_A_YEARS, TETCB_US_A_VALUE, response.json()['series'][0]['data'])\n",
    "\n",
    "TETCB_US = pd.DataFrame({'Year':TETCB_US_A_YEARS,'TETCB_US':TETCB_US_A_VALUE})\n",
    "TETCB_US.head()"
   ]
  },
  {
   "cell_type": "markdown",
   "metadata": {},
   "source": [
    "#### Total Energy Consumption in All Petroleum, United States"
   ]
  },
  {
   "cell_type": "code",
   "execution_count": 8,
   "metadata": {},
   "outputs": [
    {
     "name": "stdout",
     "output_type": "stream",
     "text": [
      "<Response [200]>\n",
      "query_to_list() successful\n"
     ]
    },
    {
     "data": {
      "text/html": [
       "<div>\n",
       "<style scoped>\n",
       "    .dataframe tbody tr th:only-of-type {\n",
       "        vertical-align: middle;\n",
       "    }\n",
       "\n",
       "    .dataframe tbody tr th {\n",
       "        vertical-align: top;\n",
       "    }\n",
       "\n",
       "    .dataframe thead th {\n",
       "        text-align: right;\n",
       "    }\n",
       "</style>\n",
       "<table border=\"1\" class=\"dataframe\">\n",
       "  <thead>\n",
       "    <tr style=\"text-align: right;\">\n",
       "      <th></th>\n",
       "      <th>Year</th>\n",
       "      <th>PATCB_US</th>\n",
       "    </tr>\n",
       "  </thead>\n",
       "  <tbody>\n",
       "    <tr>\n",
       "      <th>0</th>\n",
       "      <td>2017</td>\n",
       "      <td>37460913</td>\n",
       "    </tr>\n",
       "    <tr>\n",
       "      <th>1</th>\n",
       "      <td>2016</td>\n",
       "      <td>37118383</td>\n",
       "    </tr>\n",
       "    <tr>\n",
       "      <th>2</th>\n",
       "      <td>2015</td>\n",
       "      <td>36748622</td>\n",
       "    </tr>\n",
       "    <tr>\n",
       "      <th>3</th>\n",
       "      <td>2014</td>\n",
       "      <td>35978447</td>\n",
       "    </tr>\n",
       "    <tr>\n",
       "      <th>4</th>\n",
       "      <td>2013</td>\n",
       "      <td>35703525</td>\n",
       "    </tr>\n",
       "  </tbody>\n",
       "</table>\n",
       "</div>"
      ],
      "text/plain": [
       "   Year  PATCB_US\n",
       "0  2017  37460913\n",
       "1  2016  37118383\n",
       "2  2015  36748622\n",
       "3  2014  35978447\n",
       "4  2013  35703525"
      ]
     },
     "execution_count": 8,
     "metadata": {},
     "output_type": "execute_result"
    }
   ],
   "source": [
    "try:\n",
    "    response = requests.get(query + api_key + '&series_id=SEDS.PATCB.US.A')\n",
    "    print(response)\n",
    "except:\n",
    "    print('Query failed.')\n",
    "    \n",
    "PATCB_US_A_YEARS = []\n",
    "PATCB_US_A_VALUE = []\n",
    "\n",
    "query_to_list(PATCB_US_A_YEARS, PATCB_US_A_VALUE, response.json()['series'][0]['data'])\n",
    "\n",
    "PATCB_US = pd.DataFrame({'Year':PATCB_US_A_YEARS,'PATCB_US':PATCB_US_A_VALUE})\n",
    "PATCB_US.head()"
   ]
  },
  {
   "cell_type": "markdown",
   "metadata": {},
   "source": [
    "#### Total Energy Consumption in Coal, United States"
   ]
  },
  {
   "cell_type": "code",
   "execution_count": 9,
   "metadata": {},
   "outputs": [
    {
     "name": "stdout",
     "output_type": "stream",
     "text": [
      "<Response [200]>\n",
      "query_to_list() successful\n"
     ]
    },
    {
     "data": {
      "text/html": [
       "<div>\n",
       "<style scoped>\n",
       "    .dataframe tbody tr th:only-of-type {\n",
       "        vertical-align: middle;\n",
       "    }\n",
       "\n",
       "    .dataframe tbody tr th {\n",
       "        vertical-align: top;\n",
       "    }\n",
       "\n",
       "    .dataframe thead th {\n",
       "        text-align: right;\n",
       "    }\n",
       "</style>\n",
       "<table border=\"1\" class=\"dataframe\">\n",
       "  <thead>\n",
       "    <tr style=\"text-align: right;\">\n",
       "      <th></th>\n",
       "      <th>Year</th>\n",
       "      <th>CLTCB_US</th>\n",
       "    </tr>\n",
       "  </thead>\n",
       "  <tbody>\n",
       "    <tr>\n",
       "      <th>0</th>\n",
       "      <td>2017</td>\n",
       "      <td>13839632</td>\n",
       "    </tr>\n",
       "    <tr>\n",
       "      <th>1</th>\n",
       "      <td>2016</td>\n",
       "      <td>14227138</td>\n",
       "    </tr>\n",
       "    <tr>\n",
       "      <th>2</th>\n",
       "      <td>2015</td>\n",
       "      <td>15548985</td>\n",
       "    </tr>\n",
       "    <tr>\n",
       "      <th>3</th>\n",
       "      <td>2014</td>\n",
       "      <td>17996577</td>\n",
       "    </tr>\n",
       "    <tr>\n",
       "      <th>4</th>\n",
       "      <td>2013</td>\n",
       "      <td>18038771</td>\n",
       "    </tr>\n",
       "  </tbody>\n",
       "</table>\n",
       "</div>"
      ],
      "text/plain": [
       "   Year  CLTCB_US\n",
       "0  2017  13839632\n",
       "1  2016  14227138\n",
       "2  2015  15548985\n",
       "3  2014  17996577\n",
       "4  2013  18038771"
      ]
     },
     "execution_count": 9,
     "metadata": {},
     "output_type": "execute_result"
    }
   ],
   "source": [
    "try:\n",
    "    response = requests.get(query + api_key + '&series_id=SEDS.CLTCB.US.A')\n",
    "    print(response)\n",
    "except:\n",
    "    print('Query failed.')\n",
    "    \n",
    "CLTCB_US_A_YEARS = []\n",
    "CLTCB_US_A_VALUE = []\n",
    "\n",
    "query_to_list(CLTCB_US_A_YEARS, CLTCB_US_A_VALUE, response.json()['series'][0]['data'])\n",
    "\n",
    "CLTCB_US = pd.DataFrame({'Year':CLTCB_US_A_YEARS,'CLTCB_US':CLTCB_US_A_VALUE})\n",
    "CLTCB_US.head()"
   ]
  },
  {
   "cell_type": "markdown",
   "metadata": {},
   "source": [
    "#### Total Energy Consumption in Natural Gas, United States"
   ]
  },
  {
   "cell_type": "code",
   "execution_count": 10,
   "metadata": {},
   "outputs": [
    {
     "name": "stdout",
     "output_type": "stream",
     "text": [
      "<Response [200]>\n",
      "query_to_list() successful\n"
     ]
    },
    {
     "data": {
      "text/html": [
       "<div>\n",
       "<style scoped>\n",
       "    .dataframe tbody tr th:only-of-type {\n",
       "        vertical-align: middle;\n",
       "    }\n",
       "\n",
       "    .dataframe tbody tr th {\n",
       "        vertical-align: top;\n",
       "    }\n",
       "\n",
       "    .dataframe thead th {\n",
       "        text-align: right;\n",
       "    }\n",
       "</style>\n",
       "<table border=\"1\" class=\"dataframe\">\n",
       "  <thead>\n",
       "    <tr style=\"text-align: right;\">\n",
       "      <th></th>\n",
       "      <th>Year</th>\n",
       "      <th>NGTCB_US</th>\n",
       "    </tr>\n",
       "  </thead>\n",
       "  <tbody>\n",
       "    <tr>\n",
       "      <th>0</th>\n",
       "      <td>2017</td>\n",
       "      <td>28110959</td>\n",
       "    </tr>\n",
       "    <tr>\n",
       "      <th>1</th>\n",
       "      <td>2016</td>\n",
       "      <td>28452762</td>\n",
       "    </tr>\n",
       "    <tr>\n",
       "      <th>2</th>\n",
       "      <td>2015</td>\n",
       "      <td>28241055</td>\n",
       "    </tr>\n",
       "    <tr>\n",
       "      <th>3</th>\n",
       "      <td>2014</td>\n",
       "      <td>27438655</td>\n",
       "    </tr>\n",
       "    <tr>\n",
       "      <th>4</th>\n",
       "      <td>2013</td>\n",
       "      <td>26844986</td>\n",
       "    </tr>\n",
       "  </tbody>\n",
       "</table>\n",
       "</div>"
      ],
      "text/plain": [
       "   Year  NGTCB_US\n",
       "0  2017  28110959\n",
       "1  2016  28452762\n",
       "2  2015  28241055\n",
       "3  2014  27438655\n",
       "4  2013  26844986"
      ]
     },
     "execution_count": 10,
     "metadata": {},
     "output_type": "execute_result"
    }
   ],
   "source": [
    "try:\n",
    "    response = requests.get(query + api_key + '&series_id=SEDS.NGTCB.US.A')\n",
    "    print(response)\n",
    "except:\n",
    "    print('Query failed.')\n",
    "    \n",
    "NGTCB_US_A_YEARS = []\n",
    "NGTCB_US_A_VALUE = []\n",
    "\n",
    "query_to_list(NGTCB_US_A_YEARS, NGTCB_US_A_VALUE, response.json()['series'][0]['data'])\n",
    "\n",
    "NGTCB_US = pd.DataFrame({'Year':NGTCB_US_A_YEARS,'NGTCB_US':NGTCB_US_A_VALUE})\n",
    "NGTCB_US.head()"
   ]
  },
  {
   "cell_type": "markdown",
   "metadata": {},
   "source": [
    "## Merging all dataframes into one"
   ]
  },
  {
   "cell_type": "markdown",
   "metadata": {},
   "source": [
    "### Merged California Data"
   ]
  },
  {
   "cell_type": "code",
   "execution_count": 11,
   "metadata": {
    "scrolled": true
   },
   "outputs": [
    {
     "data": {
      "text/html": [
       "<div>\n",
       "<style scoped>\n",
       "    .dataframe tbody tr th:only-of-type {\n",
       "        vertical-align: middle;\n",
       "    }\n",
       "\n",
       "    .dataframe tbody tr th {\n",
       "        vertical-align: top;\n",
       "    }\n",
       "\n",
       "    .dataframe thead th {\n",
       "        text-align: right;\n",
       "    }\n",
       "</style>\n",
       "<table border=\"1\" class=\"dataframe\">\n",
       "  <thead>\n",
       "    <tr style=\"text-align: right;\">\n",
       "      <th></th>\n",
       "      <th>Year</th>\n",
       "      <th>TETCB_CA</th>\n",
       "      <th>PATCB_CA</th>\n",
       "      <th>CLTCB_CA</th>\n",
       "      <th>NGTCB_CA</th>\n",
       "    </tr>\n",
       "  </thead>\n",
       "  <tbody>\n",
       "    <tr>\n",
       "      <th>0</th>\n",
       "      <td>2017</td>\n",
       "      <td>7881348</td>\n",
       "      <td>3666908</td>\n",
       "      <td>33663</td>\n",
       "      <td>2188659</td>\n",
       "    </tr>\n",
       "    <tr>\n",
       "      <th>1</th>\n",
       "      <td>2016</td>\n",
       "      <td>7819232</td>\n",
       "      <td>3602810</td>\n",
       "      <td>32077</td>\n",
       "      <td>2248939</td>\n",
       "    </tr>\n",
       "    <tr>\n",
       "      <th>2</th>\n",
       "      <td>2015</td>\n",
       "      <td>7672710</td>\n",
       "      <td>3494378</td>\n",
       "      <td>30967</td>\n",
       "      <td>2384061</td>\n",
       "    </tr>\n",
       "    <tr>\n",
       "      <th>3</th>\n",
       "      <td>2014</td>\n",
       "      <td>7584837</td>\n",
       "      <td>3363800</td>\n",
       "      <td>39486</td>\n",
       "      <td>2409574</td>\n",
       "    </tr>\n",
       "    <tr>\n",
       "      <th>4</th>\n",
       "      <td>2013</td>\n",
       "      <td>7638003</td>\n",
       "      <td>3352775</td>\n",
       "      <td>38151</td>\n",
       "      <td>2480792</td>\n",
       "    </tr>\n",
       "  </tbody>\n",
       "</table>\n",
       "</div>"
      ],
      "text/plain": [
       "   Year  TETCB_CA  PATCB_CA  CLTCB_CA  NGTCB_CA\n",
       "0  2017   7881348   3666908     33663   2188659\n",
       "1  2016   7819232   3602810     32077   2248939\n",
       "2  2015   7672710   3494378     30967   2384061\n",
       "3  2014   7584837   3363800     39486   2409574\n",
       "4  2013   7638003   3352775     38151   2480792"
      ]
     },
     "execution_count": 11,
     "metadata": {},
     "output_type": "execute_result"
    }
   ],
   "source": [
    "TEC_CA = TETCB_CA.copy()\n",
    "TEC_CA = TEC_CA.merge(PATCB_CA,how='left')\n",
    "TEC_CA = TEC_CA.merge(CLTCB_CA,how='left')\n",
    "TEC_CA = TEC_CA.merge(NGTCB_CA,how='left')\n",
    "TEC_CA.head()"
   ]
  },
  {
   "cell_type": "markdown",
   "metadata": {},
   "source": [
    "### Merged United States Data"
   ]
  },
  {
   "cell_type": "code",
   "execution_count": 12,
   "metadata": {},
   "outputs": [
    {
     "data": {
      "text/html": [
       "<div>\n",
       "<style scoped>\n",
       "    .dataframe tbody tr th:only-of-type {\n",
       "        vertical-align: middle;\n",
       "    }\n",
       "\n",
       "    .dataframe tbody tr th {\n",
       "        vertical-align: top;\n",
       "    }\n",
       "\n",
       "    .dataframe thead th {\n",
       "        text-align: right;\n",
       "    }\n",
       "</style>\n",
       "<table border=\"1\" class=\"dataframe\">\n",
       "  <thead>\n",
       "    <tr style=\"text-align: right;\">\n",
       "      <th></th>\n",
       "      <th>Year</th>\n",
       "      <th>TETCB_US</th>\n",
       "      <th>PATCB_US</th>\n",
       "      <th>CLTCB_US</th>\n",
       "      <th>NGTCB_US</th>\n",
       "    </tr>\n",
       "  </thead>\n",
       "  <tbody>\n",
       "    <tr>\n",
       "      <th>0</th>\n",
       "      <td>2017</td>\n",
       "      <td>97621515</td>\n",
       "      <td>37460913</td>\n",
       "      <td>13839632</td>\n",
       "      <td>28110959</td>\n",
       "    </tr>\n",
       "    <tr>\n",
       "      <th>1</th>\n",
       "      <td>2016</td>\n",
       "      <td>97230097</td>\n",
       "      <td>37118383</td>\n",
       "      <td>14227138</td>\n",
       "      <td>28452762</td>\n",
       "    </tr>\n",
       "    <tr>\n",
       "      <th>2</th>\n",
       "      <td>2015</td>\n",
       "      <td>97364113</td>\n",
       "      <td>36748622</td>\n",
       "      <td>15548985</td>\n",
       "      <td>28241055</td>\n",
       "    </tr>\n",
       "    <tr>\n",
       "      <th>3</th>\n",
       "      <td>2014</td>\n",
       "      <td>98267257</td>\n",
       "      <td>35978447</td>\n",
       "      <td>17996577</td>\n",
       "      <td>27438655</td>\n",
       "    </tr>\n",
       "    <tr>\n",
       "      <th>4</th>\n",
       "      <td>2013</td>\n",
       "      <td>97099401</td>\n",
       "      <td>35703525</td>\n",
       "      <td>18038771</td>\n",
       "      <td>26844986</td>\n",
       "    </tr>\n",
       "  </tbody>\n",
       "</table>\n",
       "</div>"
      ],
      "text/plain": [
       "   Year  TETCB_US  PATCB_US  CLTCB_US  NGTCB_US\n",
       "0  2017  97621515  37460913  13839632  28110959\n",
       "1  2016  97230097  37118383  14227138  28452762\n",
       "2  2015  97364113  36748622  15548985  28241055\n",
       "3  2014  98267257  35978447  17996577  27438655\n",
       "4  2013  97099401  35703525  18038771  26844986"
      ]
     },
     "execution_count": 12,
     "metadata": {},
     "output_type": "execute_result"
    }
   ],
   "source": [
    "TEC_US = TETCB_US.copy()\n",
    "TEC_US = TEC_US.merge(PATCB_US,how='left')\n",
    "TEC_US = TEC_US.merge(CLTCB_US,how='left')\n",
    "TEC_US = TEC_US.merge(NGTCB_US,how='left')\n",
    "TEC_US.head()"
   ]
  },
  {
   "cell_type": "markdown",
   "metadata": {},
   "source": [
    "### Save CSV to Resources folder"
   ]
  },
  {
   "cell_type": "code",
   "execution_count": 13,
   "metadata": {},
   "outputs": [],
   "source": [
    "TEC_CA.to_csv('../Resources/TotalEnergyConsumption_CA.csv')\n",
    "TEC_US.to_csv('../Resources/TotalEnergyConsumption_US.csv')"
   ]
  }
 ],
 "metadata": {
  "kernelspec": {
   "display_name": "Python 3",
   "language": "python",
   "name": "python3"
  },
  "language_info": {
   "codemirror_mode": {
    "name": "ipython",
    "version": 3
   },
   "file_extension": ".py",
   "mimetype": "text/x-python",
   "name": "python",
   "nbconvert_exporter": "python",
   "pygments_lexer": "ipython3",
   "version": "3.7.3"
  }
 },
 "nbformat": 4,
 "nbformat_minor": 2
}
